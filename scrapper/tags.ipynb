{
 "cells": [
  {
   "cell_type": "code",
   "execution_count": 41,
   "metadata": {},
   "outputs": [],
   "source": [
    "#Import Packages\n",
    "from selenium import webdriver\n",
    "import json\n",
    "from selenium.webdriver.common.by import By"
   ]
  },
  {
   "cell_type": "code",
   "execution_count": 42,
   "metadata": {},
   "outputs": [],
   "source": [
    "tagsUrl='https://stackoverflow.com/tags'"
   ]
  },
  {
   "cell_type": "code",
   "execution_count": 47,
   "metadata": {},
   "outputs": [],
   "source": [
    "#Load the web driver and get the url\n",
    "\n",
    "driver = webdriver.Chrome()\n",
    "driver.implicitly_wait(10)\n",
    "driver.get(tagsUrl)"
   ]
  },
  {
   "cell_type": "code",
   "execution_count": 48,
   "metadata": {},
   "outputs": [],
   "source": [
    "tagsData=[]"
   ]
  },
  {
   "cell_type": "code",
   "execution_count": 49,
   "metadata": {},
   "outputs": [],
   "source": [
    "# loop to first 200 pages where tags sorted based on their popularity and store tags data\n",
    "pageCount = 1\n",
    "while pageCount <= 200: \n",
    "    allTags=driver.find_elements(By.CLASS_NAME, 'js-tag-cell')\n",
    "    for i in range(len(allTags)):\n",
    "        try:\n",
    "           detailElement=allTags[i].find_element(By.CLASS_NAME, 'fc-black-500').text\n",
    "        except:\n",
    "            detailElement=\"\"\n",
    "        tagsData.append({\n",
    "          \"name\": allTags[i].find_element(By.CLASS_NAME, 'post-tag').text,\n",
    "          \"detail\": detailElement,\n",
    "          \"questionsCount\": 0\n",
    "        })\n",
    "    driver.find_element(By.CSS_SELECTOR, \"a[rel='next']\").click()\n",
    "    pageCount = pageCount + 1"
   ]
  },
  {
   "cell_type": "code",
   "execution_count": 50,
   "metadata": {},
   "outputs": [
    {
     "name": "stdout",
     "output_type": "stream",
     "text": [
      "7200\n"
     ]
    }
   ],
   "source": [
    "print(tagsData.__len__())\n",
    "# Export the list of dictionaries to a JSON file\n",
    "with open('tags.json', 'w') as json_file:\n",
    "  json.dump(tagsData, json_file)"
   ]
  },
  {
   "cell_type": "code",
   "execution_count": null,
   "metadata": {},
   "outputs": [],
   "source": []
  }
 ],
 "metadata": {
  "kernelspec": {
   "display_name": "Python 3",
   "language": "python",
   "name": "python3"
  },
  "language_info": {
   "codemirror_mode": {
    "name": "ipython",
    "version": 3
   },
   "file_extension": ".py",
   "mimetype": "text/x-python",
   "name": "python",
   "nbconvert_exporter": "python",
   "pygments_lexer": "ipython3",
   "version": "3.11.9"
  }
 },
 "nbformat": 4,
 "nbformat_minor": 2
}
